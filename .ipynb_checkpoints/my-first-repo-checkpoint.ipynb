{
 "cells": [
  {
   "cell_type": "code",
   "execution_count": 4,
   "metadata": {},
   "outputs": [
    {
     "name": "stdout",
     "output_type": "stream",
     "text": [
      "반지름 = 10\n",
      "pi = 3.1415\n",
      "radious = 10\n",
      "diameter = 20\n",
      "circumference = 62.830000000000005\n",
      "area = 314.15000000000003\n",
      "volume = 4188.666666666666\n"
     ]
    }
   ],
   "source": [
    "r = 10\n",
    "pi = 3.1415\n",
    "d = r*2\n",
    "c = pi*2*r\n",
    "a = pi*r**2\n",
    "v = 4/3*pi*r**3\n",
    "\n",
    "print(\"반지름 =\", r)\n",
    "print(\"pi =\", pi)\n",
    "print(\"radious =\", r)\n",
    "print(\"diameter =\", d)\n",
    "print(\"circumference =\", c)\n",
    "print(\"area =\", a)\n",
    "print(\"volume =\", v)"
   ]
  },
  {
   "cell_type": "code",
   "execution_count": null,
   "metadata": {
    "collapsed": true
   },
   "outputs": [],
   "source": []
  }
 ],
 "metadata": {
  "kernelspec": {
   "display_name": "Python 3",
   "language": "python",
   "name": "python3"
  },
  "language_info": {
   "codemirror_mode": {
    "name": "ipython",
    "version": 3
   },
   "file_extension": ".py",
   "mimetype": "text/x-python",
   "name": "python",
   "nbconvert_exporter": "python",
   "pygments_lexer": "ipython3",
   "version": "3.6.1"
  }
 },
 "nbformat": 4,
 "nbformat_minor": 2
}
